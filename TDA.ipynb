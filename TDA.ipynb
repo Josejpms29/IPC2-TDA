{
  "nbformat": 4,
  "nbformat_minor": 0,
  "metadata": {
    "colab": {
      "name": "TDA.ipynb",
      "provenance": [],
      "authorship_tag": "ABX9TyP93ZKPGaY7EJ1oyQ7J3xWB",
      "include_colab_link": true
    },
    "kernelspec": {
      "name": "python3",
      "display_name": "Python 3"
    }
  },
  "cells": [
    {
      "cell_type": "markdown",
      "metadata": {
        "id": "view-in-github",
        "colab_type": "text"
      },
      "source": [
        "<a href=\"https://colab.research.google.com/github/Josejpms29/IPC2-TDA/blob/main/TDA.ipynb\" target=\"_parent\"><img src=\"https://colab.research.google.com/assets/colab-badge.svg\" alt=\"Open In Colab\"/></a>"
      ]
    },
    {
      "cell_type": "markdown",
      "metadata": {
        "id": "SB-lQ7YBc1PK"
      },
      "source": [
        "**Ejercicio de listas enlazadas**\r\n"
      ]
    },
    {
      "cell_type": "code",
      "metadata": {
        "id": "FDZ0QZlBdyjT"
      },
      "source": [
        "class cliente:\r\n",
        "  def __init__(self, nombre, no_habitacion):\r\n",
        "    self.nombre = nombre\r\n",
        "    self.no_habitacion = no_habitacion\r\n",
        "    "
      ],
      "execution_count": 1,
      "outputs": []
    },
    {
      "cell_type": "code",
      "metadata": {
        "id": "LB2k1hcMWCTN"
      },
      "source": [
        "class node:\r\n",
        "  def __init__(self, cliente=None, next=None):\r\n",
        "    self.cliente = cliente\r\n",
        "    self.next = next"
      ],
      "execution_count": 2,
      "outputs": []
    },
    {
      "cell_type": "code",
      "metadata": {
        "id": "TbjWWExYYJg3"
      },
      "source": [
        "class linked_list:\r\n",
        "  def __init__(self):\r\n",
        "    self.head = None\r\n",
        "\r\n",
        "  def insertar(self, cliente):\r\n",
        "    if not self.head:\r\n",
        "      self.head = node(cliente=cliente)\r\n",
        "      return\r\n",
        "    current = self.head\r\n",
        "    while current.next:\r\n",
        "      current = current.next\r\n",
        "    current.next = node(cliente=cliente)\r\n",
        "\r\n",
        "  def imprimir(self):\r\n",
        "    node = self.head\r\n",
        "    while node != None:\r\n",
        "      print(node.cliente.nombre, end = \"=>\")\r\n",
        "      node = node.next\r\n",
        "\r\n",
        "  def eliminar(self, no_habitacion):\r\n",
        "    current = self.head\r\n",
        "    previous = None\r\n",
        "\r\n",
        "    while current and current.cliente.no_habitacion != no_habitacion:\r\n",
        "      previous = current\r\n",
        "      current = current.next\r\n",
        "    if previous is None:\r\n",
        "      self.head = current.next\r\n",
        "    elif current:\r\n",
        "      previous.next = current.next\r\n",
        "      current.next = None"
      ],
      "execution_count": 3,
      "outputs": []
    },
    {
      "cell_type": "code",
      "metadata": {
        "id": "JhlB2Kp3cwRP"
      },
      "source": [
        "c1 = cliente(\"Estuardo Zapeta\", 101)\r\n",
        "c2 = cliente(\"Marco Lopez\", 103)\r\n",
        "c3 = cliente(\"Josue Armas\", 204)\r\n",
        "c4 = cliente(\"Gladys Olmos\", 301)"
      ],
      "execution_count": 4,
      "outputs": []
    },
    {
      "cell_type": "code",
      "metadata": {
        "id": "zEZGlveZOUEC"
      },
      "source": [
        ""
      ],
      "execution_count": 4,
      "outputs": []
    },
    {
      "cell_type": "code",
      "metadata": {
        "id": "_7UsFcAVdQ2O"
      },
      "source": [
        "lista = linked_list()\r\n",
        "lista.insertar(c1)\r\n",
        "lista.insertar(c2)\r\n",
        "lista.insertar(c3)\r\n",
        "lista.insertar(c4)"
      ],
      "execution_count": 5,
      "outputs": []
    },
    {
      "cell_type": "code",
      "metadata": {
        "colab": {
          "base_uri": "https://localhost:8080/"
        },
        "id": "fTYSuITXe5S0",
        "outputId": "d48dd15b-3667-4f89-c20c-8c2552745386"
      },
      "source": [
        "lista.imprimir()"
      ],
      "execution_count": 6,
      "outputs": [
        {
          "output_type": "stream",
          "text": [
            "Estuardo Zapeta=>Marco Lopez=>Josue Armas=>Gladys Olmos=>"
          ],
          "name": "stdout"
        }
      ]
    },
    {
      "cell_type": "code",
      "metadata": {
        "id": "9BzShqCzkJbn"
      },
      "source": [
        "lista.eliminar(204)"
      ],
      "execution_count": 7,
      "outputs": []
    },
    {
      "cell_type": "markdown",
      "metadata": {
        "id": "pGMdiqXpo7dR"
      },
      "source": [
        "**Ejercicio de Listas Circulares**"
      ]
    },
    {
      "cell_type": "code",
      "metadata": {
        "id": "y3cbe7wOpDM1"
      },
      "source": [
        "class linked_list_circular:\r\n",
        "  def __init__(self, head=None):\r\n",
        "    self.head = head\r\n",
        "    self.size = 0\r\n",
        "\r\n",
        "  def insertar(self, cliente):\r\n",
        "    if self.size == 0:\r\n",
        "      self.head = node(cliente=cliente)\r\n",
        "      self.head.next = self.head\r\n",
        "    else:\r\n",
        "      new_node = node(cliente=cliente, next=self.head.next)\r\n",
        "      self.head.next = new_node\r\n",
        "    self.size += 1\r\n",
        "\r\n",
        "  def imprimir (self):\r\n",
        "    if self.head is None:\r\n",
        "      return\r\n",
        "    node = self.head\r\n",
        "    print(node.cliente.nombre, end = \" => \")\r\n",
        "    while node.next != self.head:\r\n",
        "      node = node.next\r\n",
        "      print(node.cliente.nombre, end = \" => \")\r\n",
        "\r\n",
        "  def eliminar (self, no_habitacion):\r\n",
        "    node = self.head\r\n",
        "    previous = None\r\n",
        "\r\n",
        "    while True:\r\n",
        "      if node.cliente.no_habitacion == no_habitacion:\r\n",
        "        if previous is not None:\r\n",
        "          previous.next = node.next\r\n",
        "        else:\r\n",
        "          while node.next != self.node:\r\n",
        "            node = node.next\r\n",
        "          node.next = self.head.next\r\n",
        "          self.head = self.head.next\r\n",
        "        self.size -= 1\r\n",
        "      elif node.next == self.head:\r\n",
        "        return False\r\n",
        "\r\n",
        "      previous = node\r\n",
        "      node = node.next"
      ],
      "execution_count": 8,
      "outputs": []
    },
    {
      "cell_type": "code",
      "metadata": {
        "id": "Do2olaV1RLs5"
      },
      "source": [
        "lista_c = linked_list_circular()\r\n",
        "lista_c.insertar(c1)\r\n",
        "lista_c.insertar(c2)\r\n",
        "lista_c.insertar(c3)\r\n",
        "lista_c.insertar(c4)"
      ],
      "execution_count": 9,
      "outputs": []
    },
    {
      "cell_type": "code",
      "metadata": {
        "colab": {
          "base_uri": "https://localhost:8080/"
        },
        "id": "_olWh0APUxIf",
        "outputId": "87c7ea18-afda-4665-dac0-1f039a998c33"
      },
      "source": [
        "lista_c.imprimir()"
      ],
      "execution_count": 10,
      "outputs": [
        {
          "output_type": "stream",
          "text": [
            "Estuardo Zapeta => Gladys Olmos => Josue Armas => Marco Lopez => "
          ],
          "name": "stdout"
        }
      ]
    },
    {
      "cell_type": "code",
      "metadata": {
        "colab": {
          "base_uri": "https://localhost:8080/"
        },
        "id": "VHyOjkvdectY",
        "outputId": "3c779d83-d281-4c34-e649-4273a529d460"
      },
      "source": [
        "lista_c.eliminar(103)"
      ],
      "execution_count": 11,
      "outputs": [
        {
          "output_type": "execute_result",
          "data": {
            "text/plain": [
              "False"
            ]
          },
          "metadata": {
            "tags": []
          },
          "execution_count": 11
        }
      ]
    },
    {
      "cell_type": "code",
      "metadata": {
        "colab": {
          "base_uri": "https://localhost:8080/"
        },
        "id": "2UQxltXegkWj",
        "outputId": "b7af221d-f0e3-45af-9732-7f6f94991cfa"
      },
      "source": [
        "lista_c.eliminar(301)"
      ],
      "execution_count": 12,
      "outputs": [
        {
          "output_type": "execute_result",
          "data": {
            "text/plain": [
              "False"
            ]
          },
          "metadata": {
            "tags": []
          },
          "execution_count": 12
        }
      ]
    },
    {
      "cell_type": "code",
      "metadata": {
        "colab": {
          "base_uri": "https://localhost:8080/"
        },
        "id": "4RoKNV9gg8cd",
        "outputId": "ab2b72fe-028d-425b-c88d-b65052370d41"
      },
      "source": [
        "lista_c.eliminar(204)"
      ],
      "execution_count": 13,
      "outputs": [
        {
          "output_type": "execute_result",
          "data": {
            "text/plain": [
              "False"
            ]
          },
          "metadata": {
            "tags": []
          },
          "execution_count": 13
        }
      ]
    },
    {
      "cell_type": "markdown",
      "metadata": {
        "id": "DxR7qvUbitav"
      },
      "source": [
        "**Listas doblemente enlazada**"
      ]
    },
    {
      "cell_type": "code",
      "metadata": {
        "id": "ZBN9eKFgjGEk"
      },
      "source": [
        "class node_de:\r\n",
        "  def __init__(self, cliente=None, next=None, previous=None):\r\n",
        "    self.cliente = cliente\r\n",
        "    self.previous = previous\r\n",
        "    self.next = next"
      ],
      "execution_count": 14,
      "outputs": []
    },
    {
      "cell_type": "code",
      "metadata": {
        "id": "-midXuwqZDwc"
      },
      "source": [
        "class linked_list_de:\r\n",
        "\r\n",
        "  def __init__(self, head=None):\r\n",
        "    self.head = head\r\n",
        "    self.last = head\r\n",
        "    self.size = 0\r\n",
        "\r\n",
        "  def insertar(self, cliente):\r\n",
        "    if self.size == 0:\r\n",
        "      self.head = node_de(cliente=cliente)\r\n",
        "      self.last = self.head\r\n",
        "    else:\r\n",
        "      new_node = node_de(cliente=cliente, next=self.head)\r\n",
        "      self.head.previous = new_node\r\n",
        "      self.head = new_node\r\n",
        "    self.size += 1\r\n",
        "\r\n",
        "  def imprimir(self):\r\n",
        "    if self.head is None:\r\n",
        "      return\r\n",
        "    node =  self.head\r\n",
        "    print(node.cliente.nombre, end = \" => \")\r\n",
        "    while node.next:\r\n",
        "      node = node.next\r\n",
        "      print(node.cliente.nombre, end = \" => \")\r\n",
        "\r\n",
        "  def eliminar(self, no_habitacion):\r\n",
        "    node = self.head\r\n",
        "    while node is not None:\r\n",
        "      if node.cliente.no_habitacion == no_habitacion:\r\n",
        "        if node.previous is not None:\r\n",
        "          if node.next:\r\n",
        "            node.previous.next = node.next\r\n",
        "            node.next.previous = node.previous\r\n",
        "          else:\r\n",
        "            node.previous.next = None\r\n",
        "            self.last = node.previous\r\n",
        "        else:\r\n",
        "          self.head = node.next\r\n",
        "          node.next.previous = self.head\r\n",
        "        self.size -= 1\r\n",
        "        return True\r\n",
        "      else:\r\n",
        "        node = node.next\r\n",
        "    return False"
      ],
      "execution_count": 15,
      "outputs": []
    },
    {
      "cell_type": "code",
      "metadata": {
        "id": "AQkXPO1Abd8Y"
      },
      "source": [
        "c1 = cliente(\"Estuardo Zapeta\", 101)\r\n",
        "c2 = cliente(\"Marco Lopez\", 103)\r\n",
        "c3 = cliente(\"Josue Armas\", 204)\r\n",
        "c4 = cliente(\"Gladys Olmos\", 301)"
      ],
      "execution_count": 16,
      "outputs": []
    },
    {
      "cell_type": "code",
      "metadata": {
        "id": "kjQElbHNcwEo"
      },
      "source": [
        "lista_de = linked_list_de()\r\n",
        "lista_de.insertar(c1)\r\n",
        "lista_de.insertar(c2)\r\n",
        "lista_de.insertar(c3)\r\n",
        "lista_de.insertar(c4)"
      ],
      "execution_count": 17,
      "outputs": []
    },
    {
      "cell_type": "code",
      "metadata": {
        "colab": {
          "base_uri": "https://localhost:8080/"
        },
        "id": "xo1FNm18oSCB",
        "outputId": "0660c2d3-8e9f-490d-e5c7-45109fdee1d7"
      },
      "source": [
        "lista_de.imprimir()"
      ],
      "execution_count": 18,
      "outputs": [
        {
          "output_type": "stream",
          "text": [
            "Gladys Olmos => Josue Armas => Marco Lopez => Estuardo Zapeta => "
          ],
          "name": "stdout"
        }
      ]
    },
    {
      "cell_type": "code",
      "metadata": {
        "colab": {
          "base_uri": "https://localhost:8080/"
        },
        "id": "k7-A9tqsqzbS",
        "outputId": "b46e6da0-b6f0-4214-9dc1-1017de1838ab"
      },
      "source": [
        "lista_de.eliminar(103)"
      ],
      "execution_count": 19,
      "outputs": [
        {
          "output_type": "execute_result",
          "data": {
            "text/plain": [
              "True"
            ]
          },
          "metadata": {
            "tags": []
          },
          "execution_count": 19
        }
      ]
    },
    {
      "cell_type": "code",
      "metadata": {
        "colab": {
          "base_uri": "https://localhost:8080/"
        },
        "id": "zbiUkwKRq8Pm",
        "outputId": "d1d19e03-6c59-40a6-9fd0-b20fe4748be3"
      },
      "source": [
        "lista_de.imprimir()"
      ],
      "execution_count": 20,
      "outputs": [
        {
          "output_type": "stream",
          "text": [
            "Gladys Olmos => Josue Armas => Estuardo Zapeta => "
          ],
          "name": "stdout"
        }
      ]
    },
    {
      "cell_type": "markdown",
      "metadata": {
        "id": "mr3wVbrJcX0G"
      },
      "source": [
        "***Pilas***"
      ]
    },
    {
      "cell_type": "code",
      "metadata": {
        "id": "eX-Hhf66ceX8"
      },
      "source": [
        "class Pila:\r\n",
        "  def __init__(self):\r\n",
        "    self.pila = []\r\n",
        "\r\n",
        "  def apilar(self, cliente):\r\n",
        "    self.pila.append(cliente)\r\n",
        "\r\n",
        "  def devolver_tamano(self):\r\n",
        "    return len(self.pila)\r\n",
        "\r\n",
        "  def imprimir(self):\r\n",
        "    for elemento in self.pila:\r\n",
        "      print(elemento.nombre, end = \" => \")\r\n",
        "\r\n",
        "  def desapilar(self):\r\n",
        "    if self.pila:\r\n",
        "      self.pila.pop()"
      ],
      "execution_count": 21,
      "outputs": []
    },
    {
      "cell_type": "code",
      "metadata": {
        "id": "S1LsU1L7dew1"
      },
      "source": [
        "c1 = cliente(\"Estuardo Zapeta\", 101)\r\n",
        "c2 = cliente(\"Marco Lopez\", 103)\r\n",
        "c3 = cliente(\"Josue Armas\", 204)\r\n",
        "c4 = cliente(\"Gladys Olmos\", 301)"
      ],
      "execution_count": 22,
      "outputs": []
    },
    {
      "cell_type": "code",
      "metadata": {
        "id": "b8N2MrfMdqFz"
      },
      "source": [
        "p = Pila()\r\n",
        "p.apilar(c1)\r\n",
        "p.apilar(c2)\r\n",
        "p.apilar(c3)\r\n",
        "p.apilar(c4)"
      ],
      "execution_count": 23,
      "outputs": []
    },
    {
      "cell_type": "code",
      "metadata": {
        "id": "ext0SQKBeOUh",
        "outputId": "0060bbfb-4031-476e-f24c-78c1cb8d0c73",
        "colab": {
          "base_uri": "https://localhost:8080/"
        }
      },
      "source": [
        "p.devolver_tamano()"
      ],
      "execution_count": 24,
      "outputs": [
        {
          "output_type": "execute_result",
          "data": {
            "text/plain": [
              "4"
            ]
          },
          "metadata": {
            "tags": []
          },
          "execution_count": 24
        }
      ]
    },
    {
      "cell_type": "code",
      "metadata": {
        "id": "1HSSSa5EfXjO",
        "outputId": "7ccea60e-af4f-4606-e5e2-a0d9dbd63938",
        "colab": {
          "base_uri": "https://localhost:8080/"
        }
      },
      "source": [
        "p.imprimir()"
      ],
      "execution_count": 25,
      "outputs": [
        {
          "output_type": "stream",
          "text": [
            "Estuardo Zapeta => Marco Lopez => Josue Armas => Gladys Olmos => "
          ],
          "name": "stdout"
        }
      ]
    },
    {
      "cell_type": "code",
      "metadata": {
        "id": "hNgPtQ-WgeaM"
      },
      "source": [
        "p.desapilar()"
      ],
      "execution_count": 26,
      "outputs": []
    },
    {
      "cell_type": "markdown",
      "metadata": {
        "id": "DeC3zDm0hMF_"
      },
      "source": [
        "***Colas***"
      ]
    },
    {
      "cell_type": "code",
      "metadata": {
        "id": "BMm2tSJjhOsS"
      },
      "source": [
        "class Cola:\r\n",
        "  def __init__(self):\r\n",
        "    self.cola = []\r\n",
        "\r\n",
        "  def encolar(self, cliente):\r\n",
        "    self.cola.append(cliente)\r\n",
        "\r\n",
        "  def devolver_tamano(self):\r\n",
        "    return len(self.cola)\r\n",
        "\r\n",
        "  def imprimir(self):\r\n",
        "    for elemento in self.cola:\r\n",
        "      print(elemento.nombre, end = \" <= \")\r\n",
        "\r\n",
        "  def desencolar(self):\r\n",
        "    if self.cola:\r\n",
        "      self.cola.pop(0)"
      ],
      "execution_count": 37,
      "outputs": []
    },
    {
      "cell_type": "code",
      "metadata": {
        "id": "dzBX0r5_i-TL"
      },
      "source": [
        "c1 = cliente(\"Estuardo Zapeta\", 101)\r\n",
        "c2 = cliente(\"Marco Lopez\", 103)\r\n",
        "c3 = cliente(\"Josue Armas\", 204)\r\n",
        "c4 = cliente(\"Gladys Olmos\", 301)"
      ],
      "execution_count": 38,
      "outputs": []
    },
    {
      "cell_type": "code",
      "metadata": {
        "id": "sG9Os4eCjDuC"
      },
      "source": [
        "c = Cola()\r\n",
        "c.encolar(c1)\r\n",
        "c.encolar(c2)\r\n",
        "c.encolar(c3)\r\n",
        "c.encolar(c4)"
      ],
      "execution_count": 39,
      "outputs": []
    },
    {
      "cell_type": "code",
      "metadata": {
        "id": "2vnT2-m8jPEG",
        "outputId": "4bdccaad-7124-4bbd-dad6-735c7e6fa971",
        "colab": {
          "base_uri": "https://localhost:8080/"
        }
      },
      "source": [
        "c.devolver_tamano()"
      ],
      "execution_count": 30,
      "outputs": [
        {
          "output_type": "execute_result",
          "data": {
            "text/plain": [
              "4"
            ]
          },
          "metadata": {
            "tags": []
          },
          "execution_count": 30
        }
      ]
    },
    {
      "cell_type": "code",
      "metadata": {
        "id": "AzSjj3TxjpPT",
        "outputId": "da9dd4fa-d148-4cea-a4c6-9152f76a2139",
        "colab": {
          "base_uri": "https://localhost:8080/"
        }
      },
      "source": [
        "c.imprimir()"
      ],
      "execution_count": 42,
      "outputs": [
        {
          "output_type": "stream",
          "text": [
            "Marco Lopez <= Josue Armas <= Gladys Olmos <= "
          ],
          "name": "stdout"
        }
      ]
    },
    {
      "cell_type": "code",
      "metadata": {
        "id": "ABEjpg1FkRYT"
      },
      "source": [
        "c.desencolar()"
      ],
      "execution_count": 41,
      "outputs": []
    },
    {
      "cell_type": "markdown",
      "metadata": {
        "id": "2BYiEGthkq9n"
      },
      "source": [
        "  **IPC2-TDA**"
      ]
    }
  ]
}